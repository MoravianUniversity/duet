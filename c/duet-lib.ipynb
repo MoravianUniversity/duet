{
 "cells": [
  {
   "cell_type": "code",
   "execution_count": 1,
   "id": "643ef01d",
   "metadata": {},
   "outputs": [],
   "source": [
    "import numpy as np\n",
    "import scipy as sp\n",
    "from numpy import ndarray, nan\n",
    "\n",
    "import ctypes\n",
    "\n",
    "import matplotlib.pyplot as plt\n",
    "import seaborn as sns\n",
    "from matplotlib.colors import LogNorm\n",
    "\n",
    "from IPython.display import display, Audio\n",
    "\n",
    "from functools import cache"
   ]
  },
  {
   "cell_type": "code",
   "execution_count": 2,
   "id": "6868ac65",
   "metadata": {},
   "outputs": [],
   "source": [
    "%load_ext autoreload\n",
    "%autoreload 2\n",
    "%load_ext cython"
   ]
  },
  {
   "cell_type": "code",
   "execution_count": null,
   "metadata": {},
   "outputs": [],
   "source": [
    "@cache\n",
    "def libDUET() -> ctypes.CDLL:\n",
    "    lib = ctypes.cdll.LoadLibrary('libDUET.dylib')\n",
    "    lib.duet_init.argtypes = [ctypes.c_int, ctypes.c_int, ctypes.c_float, ctypes.c_float, ctypes.c_float]\n",
    "    lib.duet_init.restype = ctypes.c_int\n",
    "    lib.duet_deinit.restype = None\n",
    "    lib.duet_reset.restype = None\n",
    "    lib.duet_get_n_channels.restype = ctypes.c_int\n",
    "    lib.duet_get_n_freq.restype = ctypes.c_int\n",
    "    lib.duet_get_n_time.restype = ctypes.c_int\n",
    "    lib.duet_get_audio_frame_size.restype = ctypes.c_int\n",
    "    lib.duet_process_audio_frame.argtypes = [ctypes.POINTER(ctypes.c_int16), ctypes.POINTER(ctypes.c_int)]\n",
    "    lib.duet_process_audio_frame.restype = ctypes.POINTER(ctypes.c_float * 2)\n",
    "    return lib\n",
    "\n",
    "def duet_init(\n",
    "    window_size: int = 256, # size of the STFT window, must be a power of 2 between 8 and 8192 (inclusive)\n",
    "    n_samples: int = 1536,   # number of audio samples to use for identification, must be a multiple of window_size/2\n",
    "    p: float = 1.0,         # symmetric attenuation estimator value weight\n",
    "    q: float = 0.0,         # delay estimator value weight\n",
    "    point_threshold: float = 0.5 # point threshold for filtering\n",
    ") -> None:\n",
    "    \"\"\"\n",
    "    Initializes the Duet audio processing library.\n",
    "    This function must be called before using any other functions in the library.\n",
    "    It initializes the FFT library, precomputes numerous values, and sets up the\n",
    "    necessary parameters for the DUET algorithm along with allocating memory for\n",
    "    various buffers.\n",
    "\n",
    "    Parameters\n",
    "    ----------\n",
    "    window_size : int\n",
    "        Size of the STFT window, must be a power of 2 between 8 and 8192 (inclusive)\n",
    "    n_samples : int\n",
    "        Number of audio samples to use for identification, must be a multiple of window_size/2\n",
    "    p : float\n",
    "        Symmetric attenuation estimator value weight\n",
    "    q : float\n",
    "        Delay estimator value weight\n",
    "    point_threshold : float\n",
    "        Point threshold for filtering\n",
    "    \"\"\"\n",
    "    retval = libDUET().duet_init(window_size, n_samples, p, q, point_threshold)\n",
    "    if retval != 0:\n",
    "        raise RuntimeError(f\"duet_init failed with error code {retval}\")\n",
    "\n",
    "def duet_deinit() -> None:\n",
    "    \"\"\"\n",
    "    Deinitialize the DUET audio processing library. This frees any resources\n",
    "    that were allocated by duet_init() and resets the state of the library.\n",
    "\n",
    "    This must be called to change the DUET parameters.\n",
    "    \"\"\"\n",
    "    libDUET().duet_deinit()\n",
    "\n",
    "def duet_reset() -> None:\n",
    "    \"\"\"\n",
    "    Reset the DUET state for completely new, unrelated, audio. Does not\n",
    "    deallocate or deinitialize any buffers or precomputed values.\n",
    "\n",
    "    Typically this is called when switching to a new audio source but while\n",
    "    keeping the same DUET parameters.\n",
    "    \"\"\"\n",
    "    libDUET().duet_reset()\n",
    "\n",
    "def duet_get_n_channels() -> int:\n",
    "    \"\"\"Returns the number of audio channels. Hardcoded to 2 for stereo audio.\"\"\"\n",
    "    return libDUET().duet_get_n_channels()\n",
    "\n",
    "def duet_get_n_freq() -> int:\n",
    "    \"\"\"Returns the number of frequency bins in the STFT. Equal to `window_size / 2`.\"\"\"\n",
    "    return libDUET().duet_get_n_freq()\n",
    "\n",
    "def duet_get_n_time() -> int:\n",
    "    \"\"\"Returns the number of active audio frames used for identification. Equal to `n_samples / (window_size / 2) + 1`.\"\"\"\n",
    "    return libDUET().duet_get_n_time()\n",
    "\n",
    "def duet_get_audio_frame_size() -> int:\n",
    "    \"\"\"Returns the audio frame size. Equal to `window_size / 2 * decimation` (where `decimation` is the downsampling factor, e.g. 3).\"\"\"\n",
    "    return libDUET().duet_get_audio_frame_size()\n",
    "\n",
    "def duet_process_audio_frame(frame: np.ndarray) -> np.ndarray:\n",
    "    \"\"\"\n",
    "    Add the new audio frame to the existing audio buffer and process it with\n",
    "    DUET. The new audio frame is interleaved channel data with audio frame size\n",
    "    samples for each channel (see `duet_get_audio_frame_size()`). Overall size\n",
    "    must be exactly `n_channels * audio_frame_size` samples.\n",
    "\n",
    "    This returns the demixed sources of shape (n_sources, N_FREQ, N_TIME) i.e.\n",
    "    for each source there is a mono-spectrogram across all active audio frames.\n",
    "\n",
    "    Due to incremental processing, it is recommended to call this N_TIME times\n",
    "    before attempting to interpret the results.\n",
    "\n",
    "    Parameters\n",
    "    ----------\n",
    "    frame : np.ndarray\n",
    "        A 1D numpy array of int16 audio samples. The length of the array must be\n",
    "        equal to the audio frame size times the number of channels.\n",
    "\n",
    "    Returns\n",
    "    -------\n",
    "    demixed : np.ndarray\n",
    "        A 3D numpy array of shape (n_sources, N_FREQ, N_TIME) containing the\n",
    "        demixed audio sources as complex-valued spectrograms.\n",
    "    \"\"\"\n",
    "    # validate input\n",
    "    if not isinstance(frame, np.ndarray):\n",
    "        raise ValueError(\"Input frame must be a numpy array\")\n",
    "    if frame.dtype != np.int16:\n",
    "        raise ValueError(\"Input frame must be of dtype int16\")\n",
    "    if frame.ndim != 1:\n",
    "        raise ValueError(\"Input frame must be a 1D numpy array\")\n",
    "    if frame.size != duet_get_audio_frame_size() * duet_get_n_channels():\n",
    "        raise ValueError(f\"Input frame must have exactly {duet_get_audio_frame_size() * duet_get_n_channels()} samples\")\n",
    "    if not frame.flags['C_CONTIGUOUS']:\n",
    "        print(\"Warning: Input frame is not C contiguous, making a copy\")\n",
    "        frame = np.ascontiguousarray(frame)\n",
    "\n",
    "    # call C function\n",
    "    n_sources_ct = ctypes.c_int()\n",
    "    print(n_sources_ct)\n",
    "    result_ctypes = libDUET().duet_process_audio_frame(\n",
    "        frame.ctypes.data_as(ctypes.POINTER(ctypes.c_int16)),\n",
    "        ctypes.pointer(n_sources_ct)\n",
    "    )\n",
    "    print(n_sources_ct.value, result_ctypes)\n",
    "    if not result_ctypes:\n",
    "        raise RuntimeError(\"duet_process_audio_frame failed\")\n",
    "\n",
    "    # convert to numpy array\n",
    "    n_sources = n_sources_ct.value\n",
    "    n_freq = duet_get_n_freq()\n",
    "    n_time = duet_get_n_time()\n",
    "    if n_sources <= 0:\n",
    "        return np.empty((0, n_freq, n_time), dtype=np.complex64)\n",
    "\n",
    "    # TODO: convert to complex64? this line may need work\n",
    "    return np.ctypeslib.as_array(result_ctypes, (n_sources, n_freq, n_time))\n"
   ]
  },
  {
   "cell_type": "code",
   "execution_count": 4,
   "id": "a6388b77",
   "metadata": {},
   "outputs": [
    {
     "data": {
      "text/plain": [
       "(2, 128, 13, 384)"
      ]
     },
     "execution_count": 4,
     "metadata": {},
     "output_type": "execute_result"
    }
   ],
   "source": [
    "duet_init(window_size=256, n_samples=1536, point_threshold=0.5)\n",
    "duet_get_n_channels(), duet_get_n_freq(), duet_get_n_time(), duet_get_audio_frame_size()"
   ]
  },
  {
   "cell_type": "code",
   "execution_count": null,
   "id": "20d9fd15",
   "metadata": {},
   "outputs": [
    {
     "data": {
      "text/plain": [
       "(2, 128, 13, 384)"
      ]
     },
     "execution_count": 5,
     "metadata": {},
     "output_type": "execute_result"
    }
   ],
   "source": [
    "# This should not change anything until deinit is called\n",
    "#duet_deinit()\n",
    "duet_init(window_size=512, n_samples=1536, point_threshold=0.5)\n",
    "duet_get_n_channels(), duet_get_n_freq(), duet_get_n_time(), duet_get_audio_frame_size()"
   ]
  },
  {
   "cell_type": "code",
   "execution_count": 9,
   "id": "556d0c55",
   "metadata": {},
   "outputs": [],
   "source": [
    "duet_reset()"
   ]
  },
  {
   "cell_type": "code",
   "execution_count": 8,
   "id": "2dd4bb76",
   "metadata": {},
   "outputs": [
    {
     "name": "stdout",
     "output_type": "stream",
     "text": [
      "c_int(0)\n",
      "0 <__main__.LP_c_float_Array_2 object at 0x3020788c0>\n"
     ]
    },
    {
     "data": {
      "text/plain": [
       "array([], shape=(0, 128, 13), dtype=complex64)"
      ]
     },
     "execution_count": 8,
     "metadata": {},
     "output_type": "execute_result"
    }
   ],
   "source": [
    "duet_process_audio_frame(np.zeros(duet_get_audio_frame_size() * duet_get_n_channels(), dtype=np.int16))"
   ]
  },
  {
   "cell_type": "code",
   "execution_count": null,
   "id": "4efde649",
   "metadata": {},
   "outputs": [],
   "source": []
  }
 ],
 "metadata": {
  "kernelspec": {
   "display_name": "Python 3",
   "language": "python",
   "name": "python3"
  },
  "language_info": {
   "codemirror_mode": {
    "name": "ipython",
    "version": 3
   },
   "file_extension": ".py",
   "mimetype": "text/x-python",
   "name": "python",
   "nbconvert_exporter": "python",
   "pygments_lexer": "ipython3",
   "version": "3.10.6"
  }
 },
 "nbformat": 4,
 "nbformat_minor": 5
}
